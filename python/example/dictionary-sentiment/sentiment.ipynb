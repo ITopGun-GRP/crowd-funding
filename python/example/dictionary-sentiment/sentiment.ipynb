{
 "cells": [
  {
   "cell_type": "code",
   "execution_count": null,
   "metadata": {
    "collapsed": true
   },
   "outputs": [],
   "source": [
    "#Imports\n",
    "import sys\n",
    "sys.path.append('../../')\n",
    "\n",
    "from pyspark.sql import SparkSession\n",
    "from pyspark.ml import Pipeline\n",
    "\n",
    "from sparknlp.annotator import *\n",
    "from sparknlp.common import RegexRule\n",
    "from sparknlp.base import DocumentAssembler"
   ]
  },
  {
   "cell_type": "code",
   "execution_count": null,
   "metadata": {},
   "outputs": [],
   "source": [
    "data = spark. \\\n",
    "        read. \\\n",
    "        parquet(\"../../../../spark-nlp/src/test/resources/sentiment.parquet\"). \\\n",
    "        limit(10000)\n",
    "data.cache()\n",
    "data.count()"
   ]
  },
  {
   "cell_type": "code",
   "execution_count": null,
   "metadata": {
    "collapsed": true
   },
   "outputs": [],
   "source": [
    "sentiment_dict = {\n",
    "    \"good\":\"positive\",\n",
    "    \"nice\":\"positive\",\n",
    "    \"awesome\":\"positive\",\n",
    "    \"cool\":\"positive\",\n",
    "    \"superb\":\"positive\",\n",
    "    \"bad\":\"negative\",\n",
    "    \"uninspired\":\"negative\",\n",
    "    \"expensive\":\"negative\",\n",
    "    \"disappointed\":\"negative\",\n",
    "    \"recommend others to avoid\":\"negative\",\n",
    "    \"sad\":\"negative\",\n",
    "    \"missed\": \"negative\",\n",
    "    \"lack of\":\"revert\",\n",
    "    \"not\":\"revert\",\n",
    "    \"too\":\"increment\",\n",
    "    \"very\":\"increment\",\n",
    "    \"so\": \"increment\",\n",
    "    \"sorely\":\"increment\",\n",
    "    \"barely\":\"decrement\",\n",
    "    \"little\":\"decrement\"\n",
    "}"
   ]
  },
  {
   "cell_type": "code",
   "execution_count": null,
   "metadata": {
    "collapsed": true
   },
   "outputs": [],
   "source": [
    "document_assembler = DocumentAssembler() \\\n",
    "    .setInputCol(\"text\")\n",
    "\n",
    "sentence_detector = SentenceDetectorModel() \\\n",
    "    .setInputCols([\"document\"]) \\\n",
    "    .setOutputCol(\"sentence\")\n",
    "\n",
    "tokenizer = RegexTokenizer() \\\n",
    "    .setInputCols([\"sentence\"]) \\\n",
    "    .setOutputCol(\"token\")\n",
    "\n",
    "lemmatizer = Lemmatizer() \\\n",
    "    .setInputCols([\"token\"]) \\\n",
    "    .setOutputCol(\"lemma\") \\\n",
    "    .setDictionary(\"../../../src/test/resources/lemma-corpus/AntBNC_lemmas_ver_001.txt\")\n",
    "        \n",
    "sentiment_detector = SentimentDetectorModel() \\\n",
    "    .setInputCols([\"lemma\", \"sentence\"]) \\\n",
    "    .setOutputCol(\"sentiment_score\")"
   ]
  },
  {
   "cell_type": "code",
   "execution_count": null,
   "metadata": {
    "collapsed": true
   },
   "outputs": [],
   "source": [
    "pipeline = Pipeline(stages=[document_assembler, sentence_detector, tokenizer, lemmatizer, sentiment_detector])\n",
    "model = pipeline.fit(data)\n",
    "result = model.transform(data)"
   ]
  },
  {
   "cell_type": "code",
   "execution_count": null,
   "metadata": {},
   "outputs": [],
   "source": [
    "result.select(\"sentence\").take(1)"
   ]
  },
  {
   "cell_type": "code",
   "execution_count": null,
   "metadata": {},
   "outputs": [],
   "source": [
    "list(map(\n",
    "    lambda r : (r.asDict()[\"text\"].strip(),\n",
    "                r.asDict()[\"sentiment_score\"][0].asDict()[\"metadata\"][\"sentiment\"]\n",
    "               ),\n",
    "    result.select(\"text\", \"sentiment_score\").take(5)))"
   ]
  },
  {
   "cell_type": "code",
   "execution_count": null,
   "metadata": {},
   "outputs": [],
   "source": [
    "result.show()"
   ]
  },
  {
   "cell_type": "code",
   "execution_count": null,
   "metadata": {
    "collapsed": true
   },
   "outputs": [],
   "source": []
  }
 ],
 "metadata": {
  "kernelspec": {
   "display_name": "Python 3",
   "language": "python",
   "name": "python3"
  },
  "language_info": {
   "codemirror_mode": {
    "name": "ipython",
    "version": 3
   },
   "file_extension": ".py",
   "mimetype": "text/x-python",
   "name": "python",
   "nbconvert_exporter": "python",
   "pygments_lexer": "ipython3",
   "version": "3.5.4"
  }
 },
 "nbformat": 4,
 "nbformat_minor": 2
}
