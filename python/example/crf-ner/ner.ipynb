{
 "cells": [
  {
   "cell_type": "code",
   "execution_count": 1,
   "metadata": {
    "collapsed": false
   },
   "outputs": [],
   "source": [
    "import sys\n",
    "sys.path.append('../../')\n",
    "\n",
    "from pyspark.sql import SparkSession\n",
    "from pyspark.ml import Pipeline\n",
    "\n",
    "from sparknlp.annotator import *\n",
    "from sparknlp.common import *\n",
    "from sparknlp.base import *"
   ]
  },
  {
   "cell_type": "code",
   "execution_count": 2,
   "metadata": {
    "collapsed": false
   },
   "outputs": [],
   "source": [
    "spark = SparkSession.builder \\\n",
    "    .appName(\"ner\")\\\n",
    "    .master(\"local[1]\")\\\n",
    "    .config(\"spark.driver.memory\",\"4G\")\\\n",
    "    .config(\"spark.driver.maxResultSize\", \"2G\")\\\n",
    "    .config(\"spark.jar\", \"lib/sparknlp.jar\")\\\n",
    "    .config(\"spark.kryoserializer.buffer.max\", \"500m\")\\\n",
    "    .getOrCreate()"
   ]
  },
  {
   "cell_type": "markdown",
   "metadata": {},
   "source": [
    "1. Download CoNLL2003 dataset\n",
    "2. Save 3 files eng.train, eng.testa, eng.testa, into working dir ./"
   ]
  },
  {
   "cell_type": "code",
   "execution_count": 3,
   "metadata": {
    "collapsed": false
   },
   "outputs": [],
   "source": [
    "from pyspark.sql.types import *\n",
    "\n",
    "class Annotation:\n",
    "    def __init__(self, annotatorType, begin, end, metadata):\n",
    "        self.annotatorType = annotatorType\n",
    "        self.begin = begin\n",
    "        self.end = end\n",
    "        self.metadata = metadata\n",
    "\n",
    "        \n",
    "annotation_schema = StructType([\n",
    "    StructField(\"annotatorType\", StringType()),\n",
    "    StructField(\"begin\", IntegerType(), False),\n",
    "    StructField(\"end\", IntegerType(), False),\n",
    "    StructField(\"metadata\", MapType(StringType(), StringType()))\n",
    "])\n",
    "    \n",
    "\n",
    "\n",
    "def readDataset(file, doc_column = \"text\", label_column = \"label\"):\n",
    "    global spark\n",
    "    \n",
    "    result = []\n",
    "    doc = \"\"\n",
    "    labels = []\n",
    "\n",
    "    with open(file) as f:\n",
    "        for line in f:\n",
    "            items = line.split(' ')\n",
    "            word = items[0]\n",
    "            if word == \"-DOCSTART-\":\n",
    "                result.append((doc, labels))\n",
    "                doc = \"\"\n",
    "                labels = []\n",
    "            elif len(items) <= 1:\n",
    "                doc = doc + \" \\n\"\n",
    "            else:\n",
    "                if len(doc) > 0:\n",
    "                    doc = doc + \" \"\n",
    "\n",
    "                begin = len(doc)\n",
    "                doc = doc + word\n",
    "                end = len(doc) - 1\n",
    "                ner = items[3]\n",
    "                labels.append(Annotation(\"named_entity\", begin, end, {\"tag\": ner}))\n",
    "\n",
    "    if doc:\n",
    "        result.append((doc, labels))\n",
    "    \n",
    "    global annotation_schema\n",
    "    \n",
    "    schema =  StructType([\n",
    "      StructField(doc_column, StringType()),\n",
    "      StructField(label_column, ArrayType(annotation_schema))\n",
    "    ])\n",
    "    \n",
    "    \n",
    "    return spark.createDataFrame(result, schema = schema)"
   ]
  },
  {
   "cell_type": "code",
   "execution_count": 5,
   "metadata": {
    "collapsed": false
   },
   "outputs": [],
   "source": [
    "import time\n",
    "\n",
    "def get_pipeline():\n",
    "    documentAssembler = DocumentAssembler()\\\n",
    "      .setInputCol(\"text\")\\\n",
    "      .setOutputCol(\"document\")\n",
    "\n",
    "    sentenceDetector = SentenceDetectorModel()\\\n",
    "      .setInputCols([\"document\"])\\\n",
    "      .setOutputCol(\"sentence\")\n",
    "\n",
    "    tokenizer = RegexTokenizer()\\\n",
    "      .setInputCols([\"document\"])\\\n",
    "      .setOutputCol(\"token\")\n",
    "\n",
    "    posTagger = PerceptronApproach()\\\n",
    "      .setCorpusPath(\"../../../src/test/resources/anc-pos-corpus/\")\\\n",
    "      .setIterations(5)\\\n",
    "      .setInputCols([\"token\", \"document\"])\\\n",
    "      .setOutputCol(\"pos\")\n",
    "\n",
    "    nerTagger = CrfBasedNer()\\\n",
    "      .setInputCols([\"sentence\", \"token\", \"pos\"])\\\n",
    "      .setLabelColumn(\"label\")\\\n",
    "      .setOutputCol(\"ner\")\\\n",
    "      .setMinEpochs(1)\\\n",
    "      .setMaxEpochs(300)\\\n",
    "      .setLossEps(1e-3)\\\n",
    "      .setDicts([\"../../../src/main/resources/ner-corpus/dict.txt\"])\\\n",
    "      .setL2(1)\\\n",
    "      .setC0(1250000)\\\n",
    "      .setRandomSeed(100)\\\n",
    "      .setVerbose(2)\n",
    "      \n",
    "    pipeline = Pipeline(\n",
    "        stages = [\n",
    "        documentAssembler,\n",
    "        sentenceDetector,\n",
    "        tokenizer,\n",
    "        posTagger,\n",
    "        nerTagger\n",
    "      ])\n",
    "    \n",
    "    return pipeline\n",
    "\n",
    "\n",
    "def train_model(file):\n",
    "    global spark\n",
    "    \n",
    "    print(\"Dataset Reading\")\n",
    "    \n",
    "    start = time.time()\n",
    "    dataset = readDataset(file)\n",
    "    print(\"Done, {}\\n\".format(time.time() - start))\n",
    "\n",
    "    print(\"Start fitting\")\n",
    "    pipeline = get_pipeline()\n",
    "\n",
    "    return pipeline.fit(dataset)"
   ]
  },
  {
   "cell_type": "code",
   "execution_count": 6,
   "metadata": {
    "collapsed": false
   },
   "outputs": [],
   "source": [
    "from pyspark.sql.functions import col, udf, explode\n",
    "\n",
    "\n",
    "def get_dataset_for_analysis(file, model):\n",
    "    global spark\n",
    "    \n",
    "    print(\"Dataset Reading\")\n",
    "    \n",
    "    start = time.time()\n",
    "    dataset = readDataset(file)\n",
    "    print(\"Done, {}\\n\".format(time.time() - start))\n",
    "    \n",
    "    predicted = model.transform(dataset)\n",
    "    \n",
    "    global annotation_schema\n",
    "    \n",
    "    zip_annotations = udf(\n",
    "      lambda x, y: list(zip(x, y)),\n",
    "      ArrayType(StructType([\n",
    "          StructField(\"predicted\", annotation_schema),\n",
    "          StructField(\"label\", annotation_schema)\n",
    "      ]))\n",
    "    )\n",
    "    \n",
    "    return predicted\\\n",
    "        .withColumn(\"result\", zip_annotations(\"ner\", \"label\"))\\\n",
    "        .select(explode(\"result\").alias(\"result\"))\\\n",
    "        .select(\n",
    "            col(\"result.predicted\").alias(\"predicted\"), \n",
    "            col(\"result.label\").alias(\"label\")\n",
    "        )\n",
    "        \n",
    "def printStat(label, correct, predicted, predictedCorrect):\n",
    "    prec = predictedCorrect / predicted if predicted > 0 else 0\n",
    "    rec = predictedCorrect / correct if correct > 0 else 0\n",
    "    f1 = (2*prec*rec)/(prec + rec) if prec + rec > 0 else 0\n",
    "    \n",
    "    print(\"{}\\t{}\\t{}\\t{}\".format(label, prec, rec, f1))\n",
    "        \n",
    "\n",
    "def test_dataset(file, model, ignore_tokenize_misses=True):\n",
    "    global spark\n",
    "    \n",
    "    started = time.time()\n",
    "\n",
    "    df = readDataset(file)\n",
    "    transformed = model.transform(df).select(\"label\", \"ner\")\n",
    "\n",
    "    labels = []\n",
    "    predictedLabels = []\n",
    "\n",
    "    for line in transformed.collect():\n",
    "        label = line[0]\n",
    "        ner = line[1]\n",
    "    \n",
    "        ner = {(a[\"begin\"], a[\"end\"]):a[\"metadata\"][\"tag\"] for a in ner}\n",
    "\n",
    "        for a in label:\n",
    "            key = (a[\"begin\"], a[\"end\"])\n",
    "\n",
    "            label = a[\"metadata\"][\"tag\"].strip()\n",
    "            predictedLabel = ner.get(key, \"O\").strip()\n",
    "            \n",
    "            if key not in ner and ignore_tokenize_misses:\n",
    "                continue\n",
    "                \n",
    "            labels.append(label)\n",
    "            predictedLabels.append(predictedLabel)\n",
    "        \n",
    "\n",
    "    correct = {}\n",
    "    predicted = {}\n",
    "    predictedCorrect = {}\n",
    "\n",
    "\n",
    "    print(len(labels))\n",
    "\n",
    "    for (lPredicted, lCorrect) in zip(predictedLabels, labels):\n",
    "        correct[lCorrect] = correct.get(lCorrect, 0) + 1\n",
    "        predicted[lPredicted] = predicted.get(lPredicted, 0) + 1\n",
    "\n",
    "        if lCorrect == lPredicted:\n",
    "            predictedCorrect[lPredicted] = predictedCorrect.get(lPredicted, 0) + 1\n",
    "\n",
    "    correct = { key: correct[key] for key in correct.keys() if key != 'O'}\n",
    "    predicted = { key: predicted[key] for key in predicted.keys() if key != 'O'}\n",
    "    predictedCorrect = { key: predictedCorrect[key] for key in predictedCorrect.keys() if key != 'O'}\n",
    "\n",
    "    tags = set(list(correct.keys()) + list(predicted.keys()))\n",
    "\n",
    "    print(\"label\\tprec\\trec\\tf1\")\n",
    "    totalCorrect = sum(correct.values())\n",
    "    totalPredicted = sum(predicted.values())\n",
    "    totalPredictedCorrect = sum(predictedCorrect.values())\n",
    "\n",
    "    printStat(\"Total\", totalCorrect, totalPredicted, totalPredictedCorrect)\n",
    "\n",
    "    for label in tags:\n",
    "        printStat(label, correct.get(label, 0), predicted.get(label, 0), predictedCorrect.get(label, 0))\n"
   ]
  },
  {
   "cell_type": "code",
   "execution_count": 7,
   "metadata": {
    "collapsed": false
   },
   "outputs": [],
   "source": [
    "import os.path\n",
    "\n",
    "folder = '.'\n",
    "train_file = os.path.join(folder, \"eng.train\")\n",
    "test_file_a = os.path.join(folder, \"eng.testa\")\n",
    "test_file_b = os.path.join(folder, \"eng.testb\")"
   ]
  },
  {
   "cell_type": "code",
   "execution_count": 8,
   "metadata": {
    "collapsed": false
   },
   "outputs": [
    {
     "name": "stdout",
     "output_type": "stream",
     "text": [
      "Dataset Reading\n",
      "Done, 8.26949167251587\n",
      "\n",
      "Start fitting\n"
     ]
    }
   ],
   "source": [
    "model = train_model(train_file)"
   ]
  },
  {
   "cell_type": "code",
   "execution_count": 9,
   "metadata": {
    "collapsed": false
   },
   "outputs": [
    {
     "name": "stdout",
     "output_type": "stream",
     "text": [
      "\n",
      "Quality on training data\n",
      "193362\n",
      "label\tprec\trec\tf1\n",
      "Total\t0.9993112085159674\t0.9990922465333208\t0.999201715528981\n",
      "I-MISC\t0.9983788791106994\t0.9983788791106994\t0.9983788791106994\n",
      "I-LOC\t0.9989577905158937\t0.9990879478827361\t0.9990228649599375\n",
      "B-MISC\t1.0\t0.8648648648648649\t0.927536231884058\n",
      "B-LOC\t1.0\t1.0\t1.0\n",
      "I-ORG\t0.9997889627519257\t0.9990510333192746\t0.9994198618216339\n",
      "B-ORG\t1.0\t1.0\t1.0\n",
      "I-PER\t0.9995193232070756\t0.9999038276591652\t0.9997115384615385\n",
      "\n",
      "\n",
      "Quality on validation data\n",
      "48717\n",
      "label\tprec\trec\tf1\n",
      "Total\t0.9134639857470094\t0.8904602406649299\t0.9018154406683837\n",
      "I-MISC\t0.9235127478753541\t0.8056013179571664\t0.860536735591729\n",
      "B-MISC\t0.0\t0.0\t0\n",
      "I-ORG\t0.8752566735112937\t0.8559236947791165\t0.8654822335025382\n",
      "I-LOC\t0.9134266459305339\t0.9129533678756476\t0.913189945581757\n",
      "I-PER\t0.9356384799726121\t0.9356384799726121\t0.9356384799726121\n",
      "\n",
      "\n",
      "Quality on test data\n",
      "44050\n",
      "label\tprec\trec\tf1\n",
      "Total\t0.8441830065359477\t0.8516418304101279\t0.8478960152300926\n",
      "I-MISC\t0.7660332541567696\t0.7448036951501155\t0.7552693208430914\n",
      "I-LOC\t0.86692869174621\t0.8698591549295774\t0.8683914510686165\n",
      "B-MISC\t0\t0.0\t0\n",
      "B-LOC\t0\t0.0\t0\n",
      "I-ORG\t0.7903291344981714\t0.8155136268343816\t0.8027238959966982\n",
      "B-ORG\t0\t0.0\t0\n",
      "I-PER\t0.9056897895557288\t0.916042569964525\t0.9108367626886146\n"
     ]
    }
   ],
   "source": [
    "print(\"\\nQuality on training data\")\n",
    "test_dataset(train_file, model)\n",
    "\n",
    "print(\"\\n\\nQuality on validation data\")\n",
    "test_dataset(test_file_a, model)\n",
    "\n",
    "print(\"\\n\\nQuality on test data\")\n",
    "test_dataset(test_file_b, model)"
   ]
  },
  {
   "cell_type": "code",
   "execution_count": null,
   "metadata": {
    "collapsed": false
   },
   "outputs": [],
   "source": [
    "df = get_dataset_for_analysis(test_file_a, model, spark)\n",
    "df.show()"
   ]
  },
  {
   "cell_type": "code",
   "execution_count": 10,
   "metadata": {
    "collapsed": false
   },
   "outputs": [],
   "source": [
    "get_pipeline().write().overwrite().save(\"./crf_pipeline\")\n",
    "model.write().overwrite().save(\"./crf_model\")"
   ]
  },
  {
   "cell_type": "code",
   "execution_count": 11,
   "metadata": {
    "collapsed": false,
    "scrolled": false
   },
   "outputs": [],
   "source": [
    "from pyspark.ml import PipelineModel, Pipeline\n",
    "\n",
    "Pipeline.read().load(\"./crf_pipeline\")\n",
    "sameModel = PipelineModel.read().load(\"./crf_model\")"
   ]
  },
  {
   "cell_type": "code",
   "execution_count": 12,
   "metadata": {
    "collapsed": false
   },
   "outputs": [
    {
     "name": "stdout",
     "output_type": "stream",
     "text": [
      "\n",
      "Quality on training data\n",
      "193362\n",
      "label\tprec\trec\tf1\n",
      "Total\t0.9993112085159674\t0.9990922465333208\t0.999201715528981\n",
      "I-MISC\t0.9983788791106994\t0.9983788791106994\t0.9983788791106994\n",
      "I-LOC\t0.9989577905158937\t0.9990879478827361\t0.9990228649599375\n",
      "B-MISC\t1.0\t0.8648648648648649\t0.927536231884058\n",
      "B-LOC\t1.0\t1.0\t1.0\n",
      "I-ORG\t0.9997889627519257\t0.9990510333192746\t0.9994198618216339\n",
      "B-ORG\t1.0\t1.0\t1.0\n",
      "I-PER\t0.9995193232070756\t0.9999038276591652\t0.9997115384615385\n",
      "\n",
      "\n",
      "Quality on validation data\n",
      "48717\n",
      "label\tprec\trec\tf1\n",
      "Total\t0.9134639857470094\t0.8904602406649299\t0.9018154406683837\n",
      "I-MISC\t0.9235127478753541\t0.8056013179571664\t0.860536735591729\n",
      "B-MISC\t0.0\t0.0\t0\n",
      "I-ORG\t0.8752566735112937\t0.8559236947791165\t0.8654822335025382\n",
      "I-LOC\t0.9134266459305339\t0.9129533678756476\t0.913189945581757\n",
      "I-PER\t0.9356384799726121\t0.9356384799726121\t0.9356384799726121\n",
      "\n",
      "\n",
      "Quality on test data\n",
      "44050\n",
      "label\tprec\trec\tf1\n",
      "Total\t0.8441830065359477\t0.8516418304101279\t0.8478960152300926\n",
      "I-MISC\t0.7660332541567696\t0.7448036951501155\t0.7552693208430914\n",
      "I-LOC\t0.86692869174621\t0.8698591549295774\t0.8683914510686165\n",
      "B-MISC\t0\t0.0\t0\n",
      "B-LOC\t0\t0.0\t0\n",
      "I-ORG\t0.7903291344981714\t0.8155136268343816\t0.8027238959966982\n",
      "B-ORG\t0\t0.0\t0\n",
      "I-PER\t0.9056897895557288\t0.916042569964525\t0.9108367626886146\n"
     ]
    }
   ],
   "source": [
    "print(\"\\nQuality on training data\")\n",
    "test_dataset(train_file, sameModel)\n",
    "\n",
    "print(\"\\n\\nQuality on validation data\")\n",
    "test_dataset(test_file_a, sameModel)\n",
    "\n",
    "print(\"\\n\\nQuality on test data\")\n",
    "test_dataset(test_file_b, sameModel)"
   ]
  }
 ],
 "metadata": {
  "anaconda-cloud": {},
  "kernelspec": {
   "display_name": "Python [default]",
   "language": "python",
   "name": "python3"
  },
  "language_info": {
   "codemirror_mode": {
    "name": "ipython",
    "version": 3
   },
   "file_extension": ".py",
   "mimetype": "text/x-python",
   "name": "python",
   "nbconvert_exporter": "python",
   "pygments_lexer": "ipython3",
   "version": "3.5.2"
  }
 },
 "nbformat": 4,
 "nbformat_minor": 1
}
